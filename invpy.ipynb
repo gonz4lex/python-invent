{
  "nbformat": 4,
  "nbformat_minor": 0,
  "metadata": {
    "colab": {
      "name": "invpy.ipynb",
      "version": "0.3.2",
      "provenance": [],
      "collapsed_sections": []
    },
    "kernelspec": {
      "name": "python3",
      "display_name": "Python 3"
    }
  },
  "cells": [
    {
      "cell_type": "markdown",
      "metadata": {
        "id": "view-in-github",
        "colab_type": "text"
      },
      "source": [
        "[View in Colaboratory](https://colab.research.google.com/github/gonz4lex/python-invent/blob/master/invpy.ipynb)"
      ]
    },
    {
      "metadata": {
        "id": "H1IZ7a5rZd4L",
        "colab_type": "text"
      },
      "cell_type": "markdown",
      "source": [
        "http://inventwithpython.com/invent4thed"
      ]
    },
    {
      "metadata": {
        "id": "HQaCPSkP-AVR",
        "colab_type": "code",
        "colab": {}
      },
      "cell_type": "code",
      "source": [
        "#@title Guessing game\n",
        "import random as rd\n",
        "\n",
        "guessesTaken = 0\n",
        "\n",
        "print(\"Hello human! What is your name?\")\n",
        "myName = input()\n",
        "\n",
        "number = rd.randint(1,20)\n",
        "print(\"Well, \" + str(myName) + \"\"\", can you guess the number I'm thinking\n",
        "      in 6 tries or less? It's from 1 to 20\"\"\" )\n",
        "\n",
        "for guessesTaken in range(6):\n",
        "  print(\"Take a guess:\")\n",
        "  guess = input()\n",
        "  guess = int(guess)\n",
        "  \n",
        "  if guess < number:\n",
        "    print(\"Your guess is too low!\")\n",
        "    \n",
        "  if guess > number:\n",
        "    print(\"Your guess is too high!\")\n",
        "    \n",
        "  if guess == number:\n",
        "    break\n",
        "    \n",
        "if guess == number:\n",
        "  guessesTaken = str(guessesTaken + 1)\n",
        "  print(\"Great! You guessed the number in \" + guessesTaken + \" tries\")\n",
        "  \n",
        "if guess != number:\n",
        "  number = str(number)\n",
        "  print(\"Nope. The number I was thinking about was \" + number + \".\")\n",
        "  \n"
      ],
      "execution_count": 0,
      "outputs": []
    },
    {
      "metadata": {
        "id": "0lST9tOWR3p4",
        "colab_type": "code",
        "colab": {}
      },
      "cell_type": "code",
      "source": [
        "#@title The Dragon Realm\n",
        "\n",
        "import random\n",
        "import time\n",
        "\n",
        "def displayIntro():\n",
        "  print('''You are in a land full of dragons. In front of you,\n",
        " you see two caves. In one cave, the dragon is friendly\n",
        " and will share his treasure with you. The other dragon\n",
        " is greedy and hungry, and will eat you on sight.''')\n",
        "  print()\n",
        "\n",
        "def chooseCave():\n",
        "  cave = ''\n",
        "  while cave != '1' and cave != '2':\n",
        "    print('''Which direction will you go? Choose 1 or 2, but be careful!:''')\n",
        "    cave = input()\n",
        "  \n",
        "  return cave\n",
        "\n",
        "def checkCave(chosenCave):\n",
        "        time.sleep(2)\n",
        "        print('It is dark and spooky...')\n",
        "        time.sleep(2)\n",
        "        print('A large dragon jumps out in front of you! He opens his jaws and...')\n",
        "        time.sleep(2)\n",
        "        \n",
        "        friendlyCave = random.randint(1, 2)\n",
        "        \n",
        "        if chosenCave == str(friendlyCave):\n",
        "          print('Gives you his treasure!')\n",
        "        else:\n",
        "          print('Gobbles you down in one bite!')\n",
        "              \n",
        "playAgain = \"yes\"\n",
        "while playAgain == \"yes\" or playAgain == \"y\":\n",
        "      displayIntro()\n",
        "      caveNumber = chooseCave()\n",
        "      checkCave(caveNumber)\n",
        "              \n",
        "      print('Do you want to play again?')\n",
        "      playAgain = input()"
      ],
      "execution_count": 0,
      "outputs": []
    },
    {
      "metadata": {
        "id": "qzxhCvDsKyRk",
        "colab_type": "code",
        "colab": {}
      },
      "cell_type": "code",
      "source": [
        "#@title Hangman\n"
      ],
      "execution_count": 0,
      "outputs": []
    },
    {
      "metadata": {
        "id": "U_0v3o3rOlVU",
        "colab_type": "code",
        "colab": {}
      },
      "cell_type": "code",
      "source": [
        "#@title Extended Hangman\n"
      ],
      "execution_count": 0,
      "outputs": []
    },
    {
      "metadata": {
        "id": "Kv7KHcpOQvS7",
        "colab_type": "code",
        "colab": {}
      },
      "cell_type": "code",
      "source": [
        "#@title Tic-Tac-Toe\n",
        "\n",
        "import random\n",
        "\n",
        "def drawBoad(board):\n",
        "  print(board[7] + '|' + board[8] + '|' + board[9])\n",
        "  print('-+-+-')\n",
        "  print(board[4] + '|' + board[5] + '|' + board[6])\n",
        "  print('-+-+-')\n",
        "  print(board[1] + '|' + board[2] + '|' + board[3])\n",
        "  \n",
        "def inputPlayerLetter():\n",
        "  letter = ''\n",
        "  while not (letter == 'X' | letter == 'O'):\n",
        "    print(\"Do you want to be X or O?\")\n",
        "    letter = input().upper()\n",
        "    \n",
        "  if letter == 'X':\n",
        "    return ['X', 'O']\n",
        "  else:\n",
        "    return ['O', 'X']\n",
        "  \n",
        "def whoGoesFirst():\n",
        "  if random.randint(0, 1) == 0:\n",
        "    return computer\n",
        "  else:\n",
        "    return player\n",
        "  \n",
        "def makeMove(board, letter, move):\n",
        "  board[move] = letter\n",
        "  \n",
        "\n",
        "def isWinner(bo, le):\n",
        "  return ((bo[7] == le and bo[8] == le and bo[9] == le) or\n",
        "  (bo[4] == le and bo[5] == le and bo[6] == le) or\n",
        "  (bo[1] == le and bo[2] == le and bo[3] == le) or\n",
        "  (bo[7] == le and bo[4] == le and bo[1] == le) or\n",
        "  (bo[8] == le and bo[5] == le and bo[2] == le) or\n",
        "  (bo[9] == le and bo[6] == le and bo[3] == le) or\n",
        "  (bo[7] == le and bo[5] == le and bo[3] == le) or\n",
        "  (bo[9] == le and bo[5] == le and bo[1] == le))\n",
        "\n",
        "def getBoardCopy(board):\n",
        "  boardCopy = []\n",
        "  for i in board:\n",
        "    boardCopy.append(i)\n",
        "  return boardCopy\n",
        "\n",
        "isSpaceFree(board, move):\n",
        "  return board[move] == ' '\n",
        "\n",
        "getPlayerMove(board):\n",
        "  move = ' '\n",
        "  while move not in '1 2 3 4 5 6 7 8 9'.split() or not\n",
        "    isSpaceFree(board, int(move)):\n",
        "      print('What is your next move?')\n",
        "      move = input()\n",
        "      "
      ],
      "execution_count": 0,
      "outputs": []
    },
    {
      "metadata": {
        "id": "SmqkQFaXQz8v",
        "colab_type": "code",
        "colab": {}
      },
      "cell_type": "code",
      "source": [
        "#@title Bagels Deduction game"
      ],
      "execution_count": 0,
      "outputs": []
    }
  ]
}